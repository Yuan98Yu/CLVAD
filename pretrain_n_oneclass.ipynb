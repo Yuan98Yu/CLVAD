{
 "cells": [
  {
   "cell_type": "code",
   "execution_count": 1,
   "metadata": {},
   "outputs": [
    {
     "name": "stderr",
     "output_type": "stream",
     "text": [
      "/home/yuanyu/anaconda3/envs/pt110/lib/python3.9/site-packages/tqdm/auto.py:22: TqdmWarning: IProgress not found. Please update jupyter and ipywidgets. See https://ipywidgets.readthedocs.io/en/stable/user_install.html\n",
      "  from .autonotebook import tqdm as notebook_tqdm\n"
     ]
    }
   ],
   "source": [
    "import torch\n",
    "from torch.utils.data import DataLoader\n",
    "import clvad"
   ]
  },
  {
   "cell_type": "code",
   "execution_count": 2,
   "metadata": {},
   "outputs": [],
   "source": [
    "args = {\n",
    "    'device': torch.device('cuda'),\n",
    "\n",
    "    'split_file': './list/shtech_train.csv',\n",
    "    'clip_len': 32,\n",
    "    'img_dim': 224,\n",
    "    'sampling_type': 'random',\n",
    "    'batch_size': 16,\n",
    "}"
   ]
  },
  {
   "cell_type": "code",
   "execution_count": 3,
   "metadata": {},
   "outputs": [
    {
     "name": "stdout",
     "output_type": "stream",
     "text": [
      "SHTech_Dataset\n",
      "107\n"
     ]
    }
   ],
   "source": [
    "dataset = clvad.datasets.dataset_factory.make_sh_feature_extract_dataset(args)\n",
    "print(dataset.DATASET_NAME)\n",
    "print(len(dataset))\n",
    "train_loader = DataLoader(dataset,\n",
    "                          batch_size=args['batch_size'],\n",
    "                          num_workers=16,\n",
    "                          shuffle=True,\n",
    "                          drop_last=True)"
   ]
  },
  {
   "cell_type": "code",
   "execution_count": 4,
   "metadata": {},
   "outputs": [
    {
     "name": "stdout",
     "output_type": "stream",
     "text": [
      "torch.Size([16, 3, 32, 224, 224]) torch.Size([16, 32])\n",
      "torch.Size([16, 3, 32, 224, 224]) torch.Size([16, 32])\n",
      "torch.Size([16, 3, 32, 224, 224]) torch.Size([16, 32])\n",
      "torch.Size([16, 3, 32, 224, 224]) torch.Size([16, 32])\n",
      "torch.Size([16, 3, 32, 224, 224]) torch.Size([16, 32])\n",
      "torch.Size([16, 3, 32, 224, 224]) torch.Size([16, 32])\n"
     ]
    }
   ],
   "source": [
    "for batch in train_loader:\n",
    "    print(batch['video'].size(), batch['label'].size())"
   ]
  },
  {
   "cell_type": "code",
   "execution_count": 5,
   "metadata": {},
   "outputs": [
    {
     "name": "stderr",
     "output_type": "stream",
     "text": [
      "Using cache found in /home/yuanyu/.cache/torch/hub/facebookresearch_pytorchvideo_main\n"
     ]
    }
   ],
   "source": [
    "encoder = clvad.models.model_factory.make_encoder_from_hub(args)"
   ]
  },
  {
   "cell_type": "code",
   "execution_count": 6,
   "metadata": {},
   "outputs": [
    {
     "name": "stdout",
     "output_type": "stream",
     "text": [
      "torch.Size([16, 192, 32, 7, 7])\n",
      "torch.Size([16, 192, 32, 7, 7])\n",
      "torch.Size([16, 192, 32, 7, 7])\n",
      "torch.Size([16, 192, 32, 7, 7])\n",
      "torch.Size([16, 192, 32, 7, 7])\n",
      "torch.Size([16, 192, 32, 7, 7])\n"
     ]
    }
   ],
   "source": [
    "for batch in train_loader:\n",
    "    output = encoder(batch['video'])\n",
    "    print(output.size())"
   ]
  },
  {
   "cell_type": "code",
   "execution_count": null,
   "metadata": {},
   "outputs": [],
   "source": []
  }
 ],
 "metadata": {
  "interpreter": {
   "hash": "50fef5ad11a780b427fa3e729b91a74e8cf06c895cec0f24b08754b2c59039db"
  },
  "kernelspec": {
   "display_name": "Python 3.9.12 64-bit ('pt110': conda)",
   "language": "python",
   "name": "python3"
  },
  "language_info": {
   "codemirror_mode": {
    "name": "ipython",
    "version": 3
   },
   "file_extension": ".py",
   "mimetype": "text/x-python",
   "name": "python",
   "nbconvert_exporter": "python",
   "pygments_lexer": "ipython3",
   "version": "3.9.12"
  },
  "orig_nbformat": 4
 },
 "nbformat": 4,
 "nbformat_minor": 2
}
